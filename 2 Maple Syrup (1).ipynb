{
 "cells": [
  {
   "cell_type": "code",
   "execution_count": 37,
   "id": "27db49cc-9605-4b6e-936c-e673864dedff",
   "metadata": {
    "tags": []
   },
   "outputs": [
    {
     "name": "stdout",
     "output_type": "stream",
     "text": [
      "[[-1, 0, 3], [-2, 1, 3], [0, 0, 2], [0, 1, 1], [-2, 2, 2], [-1, 1, 2]]\n",
      "[[0, 0, 0]]\n"
     ]
    }
   ],
   "source": [
    "import numpy as np\n",
    "import pandas as pd\n",
    "import matplotlib.pyplot as plt\n",
    "\n",
    "nums1 = [0,0,0,0]\n",
    "target_sum1 = 0\n",
    "ex1 = [[0,0,0]]\n",
    "\n",
    "nums = [3,0,0,-2,-1,1,2]\n",
    "target_sum = 2\n",
    "ex = [[-2,2,1],[-1,0,2]]\n",
    "\n",
    "output= []\n",
    "for i in range(len(nums)):\n",
    "    for j in range(i, len(nums)):\n",
    "        for k in range(j, len(nums)):\n",
    "            if ((nums[i] + nums[j] + nums[k]) == target_sum) and not sorted([nums[i], nums[j], nums[k]]) in output:\n",
    "                temp = sorted([nums[i], nums[j], nums[k]])\n",
    "                output.append(temp)\n",
    "print(output)\n",
    "output1= []\n",
    "for i in range(len(nums1)):\n",
    "    for j in range(i, len(nums1)):\n",
    "        for k in range(j, len(nums1)):\n",
    "            if ((nums1[i] + nums1[j] + nums1[k]) == target_sum1) and not sorte[nums1[i], nums1[j], nums1[k]] in output1:\n",
    "                output1.append([nums1[i], nums1[j], nums1[k]])\n",
    "print(output1)"
   ]
  },
  {
   "cell_type": "code",
   "execution_count": null,
   "id": "e9299960-1e5f-40fe-b031-e1ca756655ed",
   "metadata": {},
   "outputs": [],
   "source": []
  }
 ],
 "metadata": {
  "kernelspec": {
   "display_name": "Python 3 (ipykernel)",
   "language": "python",
   "name": "python3"
  },
  "language_info": {
   "codemirror_mode": {
    "name": "ipython",
    "version": 3
   },
   "file_extension": ".py",
   "mimetype": "text/x-python",
   "name": "python",
   "nbconvert_exporter": "python",
   "pygments_lexer": "ipython3",
   "version": "3.11.4"
  }
 },
 "nbformat": 4,
 "nbformat_minor": 5
}
