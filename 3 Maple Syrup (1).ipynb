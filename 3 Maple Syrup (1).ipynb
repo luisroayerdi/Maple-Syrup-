{
 "cells": [
  {
   "cell_type": "code",
   "execution_count": 39,
   "id": "19b83d0f-c956-4581-8cd6-6ae9fb5130d0",
   "metadata": {
    "tags": []
   },
   "outputs": [
    {
     "name": "stdout",
     "output_type": "stream",
     "text": [
      "Ge are no strangers to love\n",
      "Iou know the rules and so do S \n",
      "K full commitment's what S'm thinking of\n",
      "Iou wouldn't get this from any other guy\n",
      "S just wanna tell you how S'm feeling\n",
      "Qotta make you understand\n",
      "Xever gonna give you up\n",
      "Xever gonna let you down\n",
      "Xever gonna run around and desert you\n",
      "Xever gonna make you cry\n",
      "Xever gonna say goodbye\n",
      "Xever gonna tell a lie and hurt you\n"
     ]
    }
   ],
   "source": [
    "import string\n",
    "with open(\"level 3.txt\") as f:\n",
    "    txt = f.read()\n",
    "alphabet = string.ascii_lowercase \n",
    "shifted_alphabet = alphabet[16:] + alphabet[:16]\n",
    "table = str.maketrans(alphabet, shifted_alphabet)\n",
    "print(txt.translate(table))"
   ]
  },
  {
   "cell_type": "code",
   "execution_count": null,
   "id": "36b8bc64-7929-4998-9ee2-99d809bdf7db",
   "metadata": {},
   "outputs": [],
   "source": []
  }
 ],
 "metadata": {
  "kernelspec": {
   "display_name": "Python 3 (ipykernel)",
   "language": "python",
   "name": "python3"
  },
  "language_info": {
   "codemirror_mode": {
    "name": "ipython",
    "version": 3
   },
   "file_extension": ".py",
   "mimetype": "text/x-python",
   "name": "python",
   "nbconvert_exporter": "python",
   "pygments_lexer": "ipython3",
   "version": "3.11.4"
  }
 },
 "nbformat": 4,
 "nbformat_minor": 5
}
