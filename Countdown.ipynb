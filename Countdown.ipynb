{
 "cells": [
  {
   "cell_type": "code",
   "execution_count": 7,
   "id": "8c3adcce-fe55-4f37-8233-b9be8a19e561",
   "metadata": {},
   "outputs": [
    {
     "name": "stdout",
     "output_type": "stream",
     "text": [
      "Today: 2023-11-17 01:56:22.487666\n",
      " No of days left for New year\n",
      "Years: 0 , Months: 1 Days: 14 ,Hours : 22 , Minutes : 3 , Seconds : 37\n"
     ]
    }
   ],
   "source": [
    "from dateutil.relativedelta import relativedelta\n",
    "from datetime import datetime\n",
    "dt=datetime.today()\n",
    "print(\"Today:\",dt) # current date and time \n",
    "print(\" No of days left for New year\")\n",
    "dt2=datetime(dt.year+1,1,1,0,0,0) # Date and time for new year\n",
    "dt3=relativedelta(dt2,dt) # time left for new year \n",
    "print(\"Years:\", dt3.years, \", Months:\",dt3.months, \"Days:\",dt3.days,\n",
    "    \",Hours :\",dt3.hours,\", Minutes :\",dt3.minutes, \", Seconds :\",dt3.seconds)"
   ]
  },
  {
   "cell_type": "code",
   "execution_count": null,
   "id": "495d44fb-2e9d-4a0f-9943-67466cfaf8aa",
   "metadata": {},
   "outputs": [],
   "source": []
  }
 ],
 "metadata": {
  "kernelspec": {
   "display_name": "anaconda-panel-2023.05-py310",
   "language": "python",
   "name": "conda-env-anaconda-panel-2023.05-py310-py"
  },
  "language_info": {
   "codemirror_mode": {
    "name": "ipython",
    "version": 3
   },
   "file_extension": ".py",
   "mimetype": "text/x-python",
   "name": "python",
   "nbconvert_exporter": "python",
   "pygments_lexer": "ipython3",
   "version": "3.11.5"
  }
 },
 "nbformat": 4,
 "nbformat_minor": 5
}
